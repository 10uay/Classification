{
 "cells": [
  {
   "cell_type": "code",
   "execution_count": 1,
   "metadata": {},
   "outputs": [],
   "source": [
    "import numpy as np\n",
    "import pandas as pd\n",
    "import matplotlib.pyplot as plt\n",
    "import scipy.optimize as opt"
   ]
  },
  {
   "cell_type": "code",
   "execution_count": 2,
   "metadata": {},
   "outputs": [],
   "source": [
    "path = 'test.txt'\n",
    "data = pd.read_csv(path, header=None, names=['Exam 1','Exam 2', 'Admitted'])"
   ]
  },
  {
   "cell_type": "code",
   "execution_count": 3,
   "metadata": {},
   "outputs": [],
   "source": [
    "positive = data[data['Admitted'].isin([1])]\n",
    "nigative = data[data['Admitted'].isin([0])]\n",
    "# fig, ax = plt.subplots(figsize=(5,5))\n",
    "# ax.scatter(positive['Exam 1'],positive['Exam 2'], s=50, c='b', marker='o', label='Admitted')\n",
    "# ax.scatter(nigative['Exam 1'],nigative['Exam 2'], s=50, c='r', marker='x', label='NotAdmitted')\n",
    "# ax.legend()\n",
    "# ax.set_xlabel('Exam 1 Score')\n",
    "# ax.set_ylabel('Exam 2 Score')"
   ]
  },
  {
   "cell_type": "code",
   "execution_count": 4,
   "metadata": {},
   "outputs": [],
   "source": [
    "# add a ones column - this makes the matrix multiplication work out easier\n",
    "data.insert(0, 'Ones', 1)\n",
    "# set X (training data) and y (target variable)\n",
    "cols = data.shape[1]\n",
    "X = data.iloc[:,0:cols-1]\n",
    "Y = data.iloc[:,cols-1:]\n",
    "# convert to numpy matrix and initalize the parameter array theta\n",
    "X = np.array(X.values)\n",
    "Y = np.array(Y.values)\n",
    "theta = np.zeros(cols-1)"
   ]
  },
  {
   "cell_type": "code",
   "execution_count": 5,
   "metadata": {},
   "outputs": [],
   "source": [
    "def sigmoid(z):\n",
    "    return 1 / (1 + np.exp(-z))\n",
    "\n",
    "def cost(theta, X, Y):\n",
    "    X = np.matrix(X)\n",
    "    Y = np.matrix(Y)\n",
    "    theta = np.matrix(theta)\n",
    "    h = sigmoid(X * theta.T)\n",
    "    first = np.multiply(-Y , np.log(h))\n",
    "    second = np.multiply((1-Y) , np.log(1-h))\n",
    "    return  np.sum(first - second) / (len(X))\n",
    "\n",
    "def gradient(theta, X ,Y):\n",
    "    X = np.matrix(X)\n",
    "    Y = np.matrix(Y)\n",
    "    theta = np.matrix(theta)\n",
    "    gred = np.matrix(np.empty(theta.shape[1]))\n",
    "    error = sigmoid(X * theta.T) - Y\n",
    "    for i in np.arange(cols-1):\n",
    "        term = np.sum(np.multiply(error, X[:,i]))\n",
    "        gred[0,i] = term / len(X)\n",
    "    return gred\n",
    "\n",
    "def predict(theta, X):\n",
    "    probability = sigmoid(X * theta.T)\n",
    "    return [1 if x >= 0.5 else 0 for x in probability]"
   ]
  },
  {
   "cell_type": "code",
   "execution_count": 6,
   "metadata": {},
   "outputs": [],
   "source": [
    "# to reduce the value of error (Cost: J)\n",
    "result = opt.fmin_tnc(func=cost, x0=theta, fprime=gradient, args=(X,Y))\n",
    "# print(result)\n",
    "# costafteroptimize = cost(result[0], X, y)\n",
    "# print('\\ncost after optimize = ' , costafteroptimize)"
   ]
  },
  {
   "cell_type": "code",
   "execution_count": 7,
   "metadata": {},
   "outputs": [
    {
     "name": "stdout",
     "output_type": "stream",
     "text": [
      "accuracy = 89%\n"
     ]
    }
   ],
   "source": [
    "theta_min = np.matrix(result[0])\n",
    "predictions = predict(theta_min, X)\n",
    "correct = [1 if ((a == 1 and b == 1) or (a == 0 and b == 0)) else 0 for (a, b) in zip(predictions, Y)]\n",
    "accuracy = sum(correct) % len(correct)\n",
    "print (f'accuracy = {accuracy}%')"
   ]
  }
 ],
 "metadata": {
  "kernelspec": {
   "display_name": "Python 3",
   "language": "python",
   "name": "python3"
  },
  "language_info": {
   "codemirror_mode": {
    "name": "ipython",
    "version": 3
   },
   "file_extension": ".py",
   "mimetype": "text/x-python",
   "name": "python",
   "nbconvert_exporter": "python",
   "pygments_lexer": "ipython3",
   "version": "3.11.3"
  }
 },
 "nbformat": 4,
 "nbformat_minor": 2
}
